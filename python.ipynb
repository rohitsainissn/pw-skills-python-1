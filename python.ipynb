{
 "cells": [
  {
   "cell_type": "markdown",
   "id": "aeae1e49",
   "metadata": {},
   "source": [
    "Q1. Write a Python program that defines a function called \"add_numbers\" that takes two arguments (i.e.,\n",
    "numbers) and returns their sum. Within the function, add the two numbers together and return the result\n",
    "using the return statement. Call the function with the values 5 and 6, and print out the returned result.\n",
    "This will result in the addition of 5 and 6, with the output of the program being the sum of these two\n",
    "numbers."
   ]
  },
  {
   "cell_type": "code",
   "execution_count": 1,
   "id": "4581dbf4",
   "metadata": {},
   "outputs": [
    {
     "name": "stdout",
     "output_type": "stream",
     "text": [
      "11\n"
     ]
    }
   ],
   "source": [
    "def add_numbers (a,b):\n",
    "    return a+b\n",
    "print(add_numbers(5,6))"
   ]
  },
  {
   "cell_type": "markdown",
   "id": "6d28cc65",
   "metadata": {},
   "source": [
    "Q2. Write a Python program that calculates the square root of a given number using a built-in function.\n",
    "Specifically, the program should take an integer or float input from the user, calculate its square root\n",
    "using the 'sqrt()' function from the 'math' module, and print out the result to the user. As an example,\n",
    "calculate the square root of the number 625 using this program, which should output the value of 25."
   ]
  },
  {
   "cell_type": "code",
   "execution_count": 4,
   "id": "d9eb6493",
   "metadata": {},
   "outputs": [
    {
     "name": "stdout",
     "output_type": "stream",
     "text": [
      "25.0\n"
     ]
    }
   ],
   "source": [
    "import math\n",
    "def sr(a):\n",
    "    return math.sqrt(a)\n",
    "print(sr(625))"
   ]
  },
  {
   "cell_type": "markdown",
   "id": "1c5652f7",
   "metadata": {},
   "source": [
    "Q3.Write a program that prints all prime numbers between 0 to 50."
   ]
  },
  {
   "cell_type": "code",
   "execution_count": 60,
   "id": "01def7ef",
   "metadata": {},
   "outputs": [
    {
     "data": {
      "text/plain": [
       "[3, 5, 7, 11, 13, 17, 19, 23, 29, 31, 37, 41, 43, 47]"
      ]
     },
     "execution_count": 60,
     "metadata": {},
     "output_type": "execute_result"
    }
   ],
   "source": [
    "def prime_list (num):\n",
    "    pri =[]\n",
    "    for a in range(2,num+1):\n",
    "        pr=1\n",
    "        for i in range (2,int(a/2)+2):\n",
    "            if a%i==0:\n",
    "                pr=0\n",
    "        if pr ==1:\n",
    "                pri.append(a)\n",
    "    return pri\n",
    "    \n",
    "\n",
    "prime_list(50)        "
   ]
  },
  {
   "cell_type": "markdown",
   "id": "162534de",
   "metadata": {},
   "source": [
    "Q4.How can we swap the values of three variables (let's say a, b, and c) without using a fourth variable?\n",
    "For example, if we have a=5, b=8, and c=9, how can we obtain a=9, b=5, and c=8? The challenge is to\n",
    "perform this operation without using an additional variable to store any of the values during the\n",
    "swapping process.\n"
   ]
  },
  {
   "cell_type": "code",
   "execution_count": 61,
   "id": "a142c534",
   "metadata": {},
   "outputs": [
    {
     "name": "stdout",
     "output_type": "stream",
     "text": [
      "9 5 8\n"
     ]
    }
   ],
   "source": [
    "a,b,c=5,8,9\n",
    "a,b,c = c,a,b\n",
    "print(a,b,c)"
   ]
  },
  {
   "cell_type": "markdown",
   "id": "a3d593c0",
   "metadata": {},
   "source": [
    "Q5. Can you write a program that determines the nature of a given number (in this case, 87) as being\n",
    "positive, negative, or zero? The program should be designed to take the number as input and perform the\n",
    "necessary calculations to determine if the number is positive (i.e., greater than zero), negative (i.e., less\n",
    "than zero), or zero (i.e., equal to zero). The output of the program should indicate which of these three\n",
    "categories the given number falls into."
   ]
  },
  {
   "cell_type": "code",
   "execution_count": 41,
   "id": "38d77b07",
   "metadata": {},
   "outputs": [
    {
     "name": "stdout",
     "output_type": "stream",
     "text": [
      "enter the number55\n"
     ]
    },
    {
     "data": {
      "text/plain": [
       "'positive'"
      ]
     },
     "execution_count": 41,
     "metadata": {},
     "output_type": "execute_result"
    }
   ],
   "source": [
    "def nature (a):\n",
    "    if a<0:\n",
    "        return 'negative'\n",
    "    elif a>0:\n",
    "        return 'positive'\n",
    "    else: return 'zero'\n",
    "a = int(input('enter the number'))\n",
    "nature(a)\n"
   ]
  },
  {
   "cell_type": "markdown",
   "id": "c894f593",
   "metadata": {},
   "source": [
    "Q6. How can you create a program that determines whether a given number (in this case, 98) is even or\n",
    "odd? The program should be designed to take the number as input and perform the necessary\n",
    "calculations to determine whether it is divisible by two. If the number is divisible by two without leaving a\n",
    "remainder, it is an even number, and if there is a remainder, it is an odd number. The output of the\n",
    "program should indicate whether the given number is even or odd.\n"
   ]
  },
  {
   "cell_type": "code",
   "execution_count": 71,
   "id": "c0100c76",
   "metadata": {},
   "outputs": [
    {
     "name": "stdout",
     "output_type": "stream",
     "text": [
      "enter the no8\n"
     ]
    },
    {
     "data": {
      "text/plain": [
       "'even'"
      ]
     },
     "execution_count": 71,
     "metadata": {},
     "output_type": "execute_result"
    }
   ],
   "source": [
    "def EO (a):\n",
    "    if a%2==0:\n",
    "        return 'even'\n",
    "    else: return 'odd'\n",
    "a =int(input('enter the no'))\n",
    "EO(a)\n"
   ]
  },
  {
   "cell_type": "markdown",
   "id": "0835fef4",
   "metadata": {},
   "source": [
    "Q7.Write a program for sum of digits.the digits are 76543 and the output should be 25."
   ]
  },
  {
   "cell_type": "code",
   "execution_count": 86,
   "id": "c68d8818",
   "metadata": {},
   "outputs": [
    {
     "name": "stdout",
     "output_type": "stream",
     "text": [
      "enter the number76543\n"
     ]
    },
    {
     "data": {
      "text/plain": [
       "25"
      ]
     },
     "execution_count": 86,
     "metadata": {},
     "output_type": "execute_result"
    }
   ],
   "source": [
    "def sum_of_digits(a):\n",
    "    b=[num for num in a]\n",
    "    int_list = list(map(int, b))\n",
    "    return sum(int_list)\n",
    "a = input('enter the number')\n",
    "sum_of_digits(a)"
   ]
  },
  {
   "cell_type": "markdown",
   "id": "5774df45",
   "metadata": {},
   "source": [
    "Q8.Write a program for reversing the given number 5436 and the output should be 6345."
   ]
  },
  {
   "cell_type": "code",
   "execution_count": 98,
   "id": "00cdca2b",
   "metadata": {},
   "outputs": [
    {
     "data": {
      "text/plain": [
       "6345"
      ]
     },
     "execution_count": 98,
     "metadata": {},
     "output_type": "execute_result"
    }
   ],
   "source": [
    "def reverser (a):\n",
    "    b = [i for i in a]\n",
    "    b.reverse()\n",
    "    rev = ''.join(b)\n",
    "    return int(rev)\n",
    "reverser('5436')\n",
    "    \n",
    "    "
   ]
  },
  {
   "cell_type": "markdown",
   "id": "5b487092",
   "metadata": {},
   "source": [
    "Q9.Write a program to check if a given number 371 is an Armstrong number?"
   ]
  },
  {
   "cell_type": "code",
   "execution_count": 27,
   "id": "c3133aca",
   "metadata": {},
   "outputs": [],
   "source": [
    "def armstrong(a):\n",
    "    b = [i for i in a]\n",
    "    c = list(map(int,b))\n",
    "    p = len(c)\n",
    "    arm_sum =list(map(lambda x:x**p,c))\n",
    "    if int(a) ==sum(arm_sum):\n",
    "        return 'YES'\n",
    "    else: return 'NO'"
   ]
  },
  {
   "cell_type": "code",
   "execution_count": 31,
   "id": "bf0425fb",
   "metadata": {},
   "outputs": [
    {
     "data": {
      "text/plain": [
       "'NO'"
      ]
     },
     "execution_count": 31,
     "metadata": {},
     "output_type": "execute_result"
    }
   ],
   "source": [
    "armstrong('12')"
   ]
  },
  {
   "cell_type": "markdown",
   "id": "41723ec1",
   "metadata": {},
   "source": [
    "Q10.Write a program the given year is 1996, a leap year."
   ]
  },
  {
   "cell_type": "code",
   "execution_count": 32,
   "id": "df00e081",
   "metadata": {},
   "outputs": [],
   "source": [
    "def year(a):\n",
    "    l=0\n",
    "    if a%4==0:\n",
    "        l=1\n",
    "        if a%100==0:\n",
    "            l=0\n",
    "            if a%400==0:\n",
    "                l=1\n",
    "    if l==1:\n",
    "        return 'leap year'\n",
    "    else: return 'normal year'\n"
   ]
  },
  {
   "cell_type": "code",
   "execution_count": 40,
   "id": "dcf3c28c",
   "metadata": {},
   "outputs": [
    {
     "data": {
      "text/plain": [
       "'leap year'"
      ]
     },
     "execution_count": 40,
     "metadata": {},
     "output_type": "execute_result"
    }
   ],
   "source": [
    "year(2400)"
   ]
  }
 ],
 "metadata": {
  "kernelspec": {
   "display_name": "Python 3 (ipykernel)",
   "language": "python",
   "name": "python3"
  },
  "language_info": {
   "codemirror_mode": {
    "name": "ipython",
    "version": 3
   },
   "file_extension": ".py",
   "mimetype": "text/x-python",
   "name": "python",
   "nbconvert_exporter": "python",
   "pygments_lexer": "ipython3",
   "version": "3.11.4"
  }
 },
 "nbformat": 4,
 "nbformat_minor": 5
}
