{
 "cells": [
  {
   "cell_type": "markdown",
   "id": "c95b99b2",
   "metadata": {},
   "source": [
    "Q1. Create a list in python using the followings: 2,3,4,5,6,7 with variable ‘a’ Add ‘mango to the above list Also add banana, grapes & orange in the list insert apple in the 5th position of a variable ‘a’ Remove last item from the list"
   ]
  },
  {
   "cell_type": "code",
   "execution_count": 1,
   "id": "120906ff",
   "metadata": {},
   "outputs": [
    {
     "data": {
      "text/plain": [
       "[2, 3, 4, 5, 'apple', 6, 7, 'mango', 'banana', 'grapes']"
      ]
     },
     "execution_count": 1,
     "metadata": {},
     "output_type": "execute_result"
    }
   ],
   "source": [
    "a = [2,3,4,5,6,7]\n",
    "a.append('mango')\n",
    "b=['banana', 'grapes', 'orange']\n",
    "a=a+b\n",
    "a.insert(4,'apple')\n",
    "a.pop()\n",
    "a"
   ]
  },
  {
   "cell_type": "markdown",
   "id": "9e275e24",
   "metadata": {},
   "source": [
    "Q2.\n",
    "L = [1,2,3,4,5,6,7]\n",
    "Using the above list slice from 1:4"
   ]
  },
  {
   "cell_type": "code",
   "execution_count": 2,
   "id": "2624096e",
   "metadata": {},
   "outputs": [],
   "source": [
    "L = [1,2,3,4,5,6,7]\n",
    "# Using the above list slice from 1:4"
   ]
  },
  {
   "cell_type": "code",
   "execution_count": 3,
   "id": "631194b6",
   "metadata": {},
   "outputs": [
    {
     "data": {
      "text/plain": [
       "[2, 3, 4]"
      ]
     },
     "execution_count": 3,
     "metadata": {},
     "output_type": "execute_result"
    }
   ],
   "source": [
    "lis = L[1:4]\n",
    "lis"
   ]
  },
  {
   "cell_type": "markdown",
   "id": "c8fe1cb4",
   "metadata": {},
   "source": [
    "Q3. Reverse the order of given string L = [4,5,6,8,3] Without using reverse() function."
   ]
  },
  {
   "cell_type": "code",
   "execution_count": 4,
   "id": "e86848cb",
   "metadata": {},
   "outputs": [],
   "source": [
    "L = [4,5,6,8,3]"
   ]
  },
  {
   "cell_type": "code",
   "execution_count": 5,
   "id": "7081fa7d",
   "metadata": {},
   "outputs": [
    {
     "data": {
      "text/plain": [
       "[3, 8, 6, 5, 4]"
      ]
     },
     "execution_count": 5,
     "metadata": {},
     "output_type": "execute_result"
    }
   ],
   "source": [
    "lis = L[::-1]\n",
    "lis"
   ]
  },
  {
   "cell_type": "markdown",
   "id": "981b7272",
   "metadata": {},
   "source": [
    "Q4. Use list comprehension to square the given list L=[2,4,7,3,6,8]"
   ]
  },
  {
   "cell_type": "code",
   "execution_count": 6,
   "id": "49235770",
   "metadata": {},
   "outputs": [
    {
     "data": {
      "text/plain": [
       "[4, 16, 49, 9, 36, 64]"
      ]
     },
     "execution_count": 6,
     "metadata": {},
     "output_type": "execute_result"
    }
   ],
   "source": [
    "L=[2,4,7,3,6,8]\n",
    "lis = [i*i for i in L]\n",
    "lis"
   ]
  },
  {
   "cell_type": "markdown",
   "id": "baa8b618",
   "metadata": {},
   "source": [
    "Q5. Create a function that takes in a tuple of integers and returns the sum of the integers. Test the\n",
    "function with a tuple of your choice."
   ]
  },
  {
   "cell_type": "code",
   "execution_count": 7,
   "id": "4b38171e",
   "metadata": {},
   "outputs": [
    {
     "data": {
      "text/plain": [
       "6"
      ]
     },
     "execution_count": 7,
     "metadata": {},
     "output_type": "execute_result"
    }
   ],
   "source": [
    "tup = (1,2,3)\n",
    "def su (a):\n",
    "    sum1=0\n",
    "    for i in a:\n",
    "        sum1+=i\n",
    "    return sum1\n",
    "su(tup)"
   ]
  },
  {
   "cell_type": "markdown",
   "id": "13da934f",
   "metadata": {},
   "source": [
    "Q6. Create two sets of your favourite fruits, and use the union() method to combine them into a single set."
   ]
  },
  {
   "cell_type": "code",
   "execution_count": 8,
   "id": "42d92919",
   "metadata": {},
   "outputs": [
    {
     "data": {
      "text/plain": [
       "{'apple', 'banana', 'mango', 'orange', 'pine apple'}"
      ]
     },
     "execution_count": 8,
     "metadata": {},
     "output_type": "execute_result"
    }
   ],
   "source": [
    "a= {'apple', 'mango','banana'}\n",
    "b= {'orange','banana', 'pine apple'}\n",
    "a.union(b)"
   ]
  },
  {
   "cell_type": "markdown",
   "id": "6cfc047b",
   "metadata": {},
   "source": [
    "Q7. Create a set of random words, and use the add() method to add a new word to the set. Print the\n",
    "resulting set to the console."
   ]
  },
  {
   "cell_type": "code",
   "execution_count": 9,
   "id": "449ae5cc",
   "metadata": {},
   "outputs": [
    {
     "data": {
      "text/plain": [
       "{'h', 'i', 'o', 'r'}"
      ]
     },
     "execution_count": 9,
     "metadata": {},
     "output_type": "execute_result"
    }
   ],
   "source": [
    "set1= {'r','o','h'}\n",
    "set1.add('i')\n",
    "set1"
   ]
  },
  {
   "cell_type": "markdown",
   "id": "9ba592a8",
   "metadata": {},
   "source": [
    "Q8. Create a set of your favourite animals, and use the remove() method to remove one animal from the\n",
    "set. Print the resulting set to the console."
   ]
  },
  {
   "cell_type": "code",
   "execution_count": 10,
   "id": "e6ed5bf8",
   "metadata": {},
   "outputs": [
    {
     "data": {
      "text/plain": [
       "{'h', 'r'}"
      ]
     },
     "execution_count": 10,
     "metadata": {},
     "output_type": "execute_result"
    }
   ],
   "source": [
    "set1= {'r','o','h'}\n",
    "set1.remove('o')\n",
    "set1"
   ]
  },
  {
   "cell_type": "markdown",
   "id": "f9bc2a41",
   "metadata": {},
   "source": [
    "Q9. favorite_books = {\"1984\", \"To Kill a Mockingbird\", \"Pride and Prejudice\"}\n",
    "favorite_movies = [\"The Shawshank Redemption\", \"The Godfather\", \"The Dark Knight\"]\n",
    "Use the zip() function to combine the book set and movie list into a list of tuples representing book/\n",
    "movie pairs. Print the resulting list."
   ]
  },
  {
   "cell_type": "code",
   "execution_count": 11,
   "id": "54971354",
   "metadata": {},
   "outputs": [],
   "source": [
    "favorite_books = {\"1984\", \"To Kill a Mockingbird\", \"Pride and Prejudice\"}\n",
    "favorite_movies = [\"The Shawshank Redemption\", \"The Godfather\", \"The Dark Knight\"]"
   ]
  },
  {
   "cell_type": "code",
   "execution_count": 12,
   "id": "a76132d0",
   "metadata": {},
   "outputs": [
    {
     "data": {
      "text/plain": [
       "[('1984', 'The Shawshank Redemption'),\n",
       " ('To Kill a Mockingbird', 'The Godfather'),\n",
       " ('Pride and Prejudice', 'The Dark Knight')]"
      ]
     },
     "execution_count": 12,
     "metadata": {},
     "output_type": "execute_result"
    }
   ],
   "source": [
    "combined_list = list(zip(favorite_books, favorite_movies))\n",
    "combined_list"
   ]
  },
  {
   "cell_type": "markdown",
   "id": "d9cd8060",
   "metadata": {},
   "source": [
    "Q10. Write a Python program to find the difference between consecutive numbers in a list."
   ]
  },
  {
   "cell_type": "code",
   "execution_count": 13,
   "id": "c49f558c",
   "metadata": {},
   "outputs": [
    {
     "data": {
      "text/plain": [
       "[2, 3, 3, 22]"
      ]
     },
     "execution_count": 13,
     "metadata": {},
     "output_type": "execute_result"
    }
   ],
   "source": [
    "lis = [2,4,7,10,32]\n",
    "def dif (lis):\n",
    "    diff_list=[]\n",
    "    for i in range(len(lis)-1):\n",
    "        diff_list.append(lis[i+1]-lis[i])\n",
    "    return diff_list\n",
    "dif(lis)\n",
    "        "
   ]
  }
 ],
 "metadata": {
  "kernelspec": {
   "display_name": "Python 3 (ipykernel)",
   "language": "python",
   "name": "python3"
  },
  "language_info": {
   "codemirror_mode": {
    "name": "ipython",
    "version": 3
   },
   "file_extension": ".py",
   "mimetype": "text/x-python",
   "name": "python",
   "nbconvert_exporter": "python",
   "pygments_lexer": "ipython3",
   "version": "3.10.9"
  }
 },
 "nbformat": 4,
 "nbformat_minor": 5
}
